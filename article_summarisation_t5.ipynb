{
  "metadata": {
    "kernelspec": {
      "language": "python",
      "display_name": "Python 3",
      "name": "python3"
    },
    "language_info": {
      "name": "python",
      "version": "3.7.12",
      "mimetype": "text/x-python",
      "codemirror_mode": {
        "name": "ipython",
        "version": 3
      },
      "pygments_lexer": "ipython3",
      "nbconvert_exporter": "python",
      "file_extension": ".py"
    },
    "colab": {
      "provenance": [],
      "include_colab_link": true
    }
  },
  "nbformat_minor": 0,
  "nbformat": 4,
  "cells": [
    {
      "cell_type": "markdown",
      "metadata": {
        "id": "view-in-github",
        "colab_type": "text"
      },
      "source": [
        "<a href=\"https://colab.research.google.com/github/norayehia/LLM-txtsummarize-nlp/blob/main/article_summarisation_t5.ipynb\" target=\"_parent\"><img src=\"https://colab.research.google.com/assets/colab-badge.svg\" alt=\"Open In Colab\"/></a>"
      ]
    },
    {
      "cell_type": "markdown",
      "source": [
        "# Document summarization using Text-to-Text Transfer Transformers(T5)"
      ],
      "metadata": {
        "id": "W4vZgp15ql46"
      }
    },
    {
      "cell_type": "markdown",
      "source": [
        "![image.png](attachment:ad656a8d-52b7-45f0-bf0e-8a808ef2dd17.png)"
      ],
      "metadata": {
        "id": "-qHYCfifql5A"
      }
    },
    {
      "cell_type": "code",
      "source": [
        "!pip install lightning"
      ],
      "metadata": {
        "execution": {
          "iopub.status.busy": "2023-11-08T20:04:40.266162Z",
          "iopub.execute_input": "2023-11-08T20:04:40.267014Z",
          "iopub.status.idle": "2023-11-08T20:05:02.556538Z",
          "shell.execute_reply.started": "2023-11-08T20:04:40.266973Z",
          "shell.execute_reply": "2023-11-08T20:05:02.555285Z"
        },
        "trusted": true,
        "id": "DCKdcNz3ql5C",
        "outputId": "d3d548cf-b47c-4d75-9ada-8783be6d0e3f"
      },
      "execution_count": null,
      "outputs": [
        {
          "name": "stdout",
          "text": "Collecting lightning\n  Downloading lightning-1.9.5-py3-none-any.whl (2.1 MB)\n\u001b[2K     \u001b[90m━━━━━━━━━━━━━━━━━━━━━━━━━━━━━━━━━━━━━━━━\u001b[0m \u001b[32m2.1/2.1 MB\u001b[0m \u001b[31m35.1 MB/s\u001b[0m eta \u001b[36m0:00:00\u001b[0ma \u001b[36m0:00:01\u001b[0m\n\u001b[?25hRequirement already satisfied: fsspec<2024.0,>=2022.5.0 in /opt/conda/lib/python3.7/site-packages (from lightning) (2023.1.0)\nRequirement already satisfied: packaging<25.0,>=17.1 in /opt/conda/lib/python3.7/site-packages (from lightning) (23.0)\nRequirement already satisfied: beautifulsoup4<6.0,>=4.8.0 in /opt/conda/lib/python3.7/site-packages (from lightning) (4.11.1)\nRequirement already satisfied: lightning-utilities<2.0,>=0.6.0.post0 in /opt/conda/lib/python3.7/site-packages (from lightning) (0.7.1)\nRequirement already satisfied: traitlets<7.0,>=5.3.0 in /opt/conda/lib/python3.7/site-packages (from lightning) (5.8.1)\nRequirement already satisfied: numpy<3.0,>=1.17.2 in /opt/conda/lib/python3.7/site-packages (from lightning) (1.21.6)\nRequirement already satisfied: tqdm<6.0,>=4.57.0 in /opt/conda/lib/python3.7/site-packages (from lightning) (4.64.1)\nRequirement already satisfied: psutil<7.0 in /opt/conda/lib/python3.7/site-packages (from lightning) (5.9.3)\nCollecting lightning-cloud>=0.5.27\n  Downloading lightning_cloud-0.5.52-py3-none-any.whl (788 kB)\n\u001b[2K     \u001b[90m━━━━━━━━━━━━━━━━━━━━━━━━━━━━━━━━━━━━━━\u001b[0m \u001b[32m788.3/788.3 kB\u001b[0m \u001b[31m48.8 MB/s\u001b[0m eta \u001b[36m0:00:00\u001b[0m\n\u001b[?25hRequirement already satisfied: websockets<12.0 in /opt/conda/lib/python3.7/site-packages (from lightning) (10.4)\nCollecting inquirer<5.0,>=2.10.0\n  Downloading inquirer-2.10.1-py3-none-any.whl (17 kB)\nRequirement already satisfied: starlette<2.0 in /opt/conda/lib/python3.7/site-packages (from lightning) (0.22.0)\nCollecting dateutils<2.0\n  Downloading dateutils-0.6.12-py2.py3-none-any.whl (5.7 kB)\nRequirement already satisfied: PyYAML<8.0,>=5.4 in /opt/conda/lib/python3.7/site-packages (from lightning) (6.0)\nCollecting fastapi<0.89.0\n  Downloading fastapi-0.88.0-py3-none-any.whl (55 kB)\n\u001b[2K     \u001b[90m━━━━━━━━━━━━━━━━━━━━━━━━━━━━━━━━━━━━━━━━\u001b[0m \u001b[32m55.5/55.5 kB\u001b[0m \u001b[31m6.9 MB/s\u001b[0m eta \u001b[36m0:00:00\u001b[0m\n\u001b[?25hRequirement already satisfied: Jinja2<5.0 in /opt/conda/lib/python3.7/site-packages (from lightning) (3.1.2)\nRequirement already satisfied: requests<4.0 in /opt/conda/lib/python3.7/site-packages (from lightning) (2.28.2)\nRequirement already satisfied: pydantic<3.0 in /opt/conda/lib/python3.7/site-packages (from lightning) (1.10.4)\nRequirement already satisfied: rich<15.0 in /opt/conda/lib/python3.7/site-packages (from lightning) (13.2.0)\nRequirement already satisfied: typing-extensions<6.0,>=4.0.0 in /opt/conda/lib/python3.7/site-packages (from lightning) (4.4.0)\nRequirement already satisfied: websocket-client<3.0 in /opt/conda/lib/python3.7/site-packages (from lightning) (1.4.2)\nCollecting croniter<1.4.0,>=1.3.0\n  Downloading croniter-1.3.15-py2.py3-none-any.whl (19 kB)\nRequirement already satisfied: urllib3<3.0 in /opt/conda/lib/python3.7/site-packages (from lightning) (1.26.14)\nRequirement already satisfied: torch<4.0,>=1.10.0 in /opt/conda/lib/python3.7/site-packages (from lightning) (1.13.0)\nRequirement already satisfied: click<10.0 in /opt/conda/lib/python3.7/site-packages (from lightning) (8.1.3)\nCollecting deepdiff<8.0,>=5.7.0\n  Downloading deepdiff-6.7.0-py3-none-any.whl (75 kB)\n\u001b[2K     \u001b[90m━━━━━━━━━━━━━━━━━━━━━━━━━━━━━━━━━━━━━━━━\u001b[0m \u001b[32m75.4/75.4 kB\u001b[0m \u001b[31m9.3 MB/s\u001b[0m eta \u001b[36m0:00:00\u001b[0m\n\u001b[?25hRequirement already satisfied: uvicorn<2.0 in /opt/conda/lib/python3.7/site-packages (from lightning) (0.20.0)\nRequirement already satisfied: arrow<3.0,>=1.2.0 in /opt/conda/lib/python3.7/site-packages (from lightning) (1.2.3)\nRequirement already satisfied: torchmetrics<2.0,>=0.7.0 in /opt/conda/lib/python3.7/site-packages (from lightning) (0.11.1)\nCollecting starsessions<2.0,>=1.2.1\n  Downloading starsessions-1.3.0-py3-none-any.whl (10 kB)\nRequirement already satisfied: python-dateutil>=2.7.0 in /opt/conda/lib/python3.7/site-packages (from arrow<3.0,>=1.2.0->lightning) (2.8.2)\nRequirement already satisfied: soupsieve>1.2 in /opt/conda/lib/python3.7/site-packages (from beautifulsoup4<6.0,>=4.8.0->lightning) (2.3.2.post1)\nRequirement already satisfied: importlib-metadata in /opt/conda/lib/python3.7/site-packages (from click<10.0->lightning) (4.11.4)\nRequirement already satisfied: pytz in /opt/conda/lib/python3.7/site-packages (from dateutils<2.0->lightning) (2022.7.1)\nCollecting ordered-set<4.2.0,>=4.0.2\n  Downloading ordered_set-4.1.0-py3-none-any.whl (7.6 kB)\nRequirement already satisfied: anyio<5,>=3.4.0 in /opt/conda/lib/python3.7/site-packages (from starlette<2.0->lightning) (3.6.2)\nRequirement already satisfied: aiohttp!=4.0.0a0,!=4.0.0a1 in /opt/conda/lib/python3.7/site-packages (from fsspec<2024.0,>=2022.5.0->lightning) (3.8.3)\nRequirement already satisfied: blessed>=1.19.0 in /opt/conda/lib/python3.7/site-packages (from inquirer<5.0,>=2.10.0->lightning) (1.19.1)\nCollecting readchar>=3.0.6\n  Downloading readchar-4.0.5-py3-none-any.whl (8.5 kB)\nCollecting python-editor>=1.0.4\n  Downloading python_editor-1.0.4-py3-none-any.whl (4.9 kB)\nRequirement already satisfied: MarkupSafe>=2.0 in /opt/conda/lib/python3.7/site-packages (from Jinja2<5.0->lightning) (2.1.1)\nRequirement already satisfied: six in /opt/conda/lib/python3.7/site-packages (from lightning-cloud>=0.5.27->lightning) (1.16.0)\nRequirement already satisfied: pyjwt in /opt/conda/lib/python3.7/site-packages (from lightning-cloud>=0.5.27->lightning) (2.6.0)\nRequirement already satisfied: boto3 in /opt/conda/lib/python3.7/site-packages (from lightning-cloud>=0.5.27->lightning) (1.26.77)\nCollecting python-multipart\n  Downloading python_multipart-0.0.6-py3-none-any.whl (45 kB)\n\u001b[2K     \u001b[90m━━━━━━━━━━━━━━━━━━━━━━━━━━━━━━━━━━━━━━━━\u001b[0m \u001b[32m45.7/45.7 kB\u001b[0m \u001b[31m5.6 MB/s\u001b[0m eta \u001b[36m0:00:00\u001b[0m\n\u001b[?25hRequirement already satisfied: charset-normalizer<4,>=2 in /opt/conda/lib/python3.7/site-packages (from requests<4.0->lightning) (2.1.1)\nRequirement already satisfied: certifi>=2017.4.17 in /opt/conda/lib/python3.7/site-packages (from requests<4.0->lightning) (2022.12.7)\nRequirement already satisfied: idna<4,>=2.5 in /opt/conda/lib/python3.7/site-packages (from requests<4.0->lightning) (3.4)\nRequirement already satisfied: pygments<3.0.0,>=2.6.0 in /opt/conda/lib/python3.7/site-packages (from rich<15.0->lightning) (2.14.0)\nRequirement already satisfied: markdown-it-py<3.0.0,>=2.1.0 in /opt/conda/lib/python3.7/site-packages (from rich<15.0->lightning) (2.1.0)\nRequirement already satisfied: itsdangerous<3.0.0,>=2.0.1 in /opt/conda/lib/python3.7/site-packages (from starsessions<2.0,>=1.2.1->lightning) (2.1.2)\nRequirement already satisfied: h11>=0.8 in /opt/conda/lib/python3.7/site-packages (from uvicorn<2.0->lightning) (0.14.0)\nRequirement already satisfied: aiosignal>=1.1.2 in /opt/conda/lib/python3.7/site-packages (from aiohttp!=4.0.0a0,!=4.0.0a1->fsspec<2024.0,>=2022.5.0->lightning) (1.3.1)\nRequirement already satisfied: async-timeout<5.0,>=4.0.0a3 in /opt/conda/lib/python3.7/site-packages (from aiohttp!=4.0.0a0,!=4.0.0a1->fsspec<2024.0,>=2022.5.0->lightning) (4.0.2)\nRequirement already satisfied: yarl<2.0,>=1.0 in /opt/conda/lib/python3.7/site-packages (from aiohttp!=4.0.0a0,!=4.0.0a1->fsspec<2024.0,>=2022.5.0->lightning) (1.8.2)\nRequirement already satisfied: asynctest==0.13.0 in /opt/conda/lib/python3.7/site-packages (from aiohttp!=4.0.0a0,!=4.0.0a1->fsspec<2024.0,>=2022.5.0->lightning) (0.13.0)\nRequirement already satisfied: frozenlist>=1.1.1 in /opt/conda/lib/python3.7/site-packages (from aiohttp!=4.0.0a0,!=4.0.0a1->fsspec<2024.0,>=2022.5.0->lightning) (1.3.3)\nRequirement already satisfied: attrs>=17.3.0 in /opt/conda/lib/python3.7/site-packages (from aiohttp!=4.0.0a0,!=4.0.0a1->fsspec<2024.0,>=2022.5.0->lightning) (22.2.0)\nRequirement already satisfied: multidict<7.0,>=4.5 in /opt/conda/lib/python3.7/site-packages (from aiohttp!=4.0.0a0,!=4.0.0a1->fsspec<2024.0,>=2022.5.0->lightning) (6.0.4)\nRequirement already satisfied: sniffio>=1.1 in /opt/conda/lib/python3.7/site-packages (from anyio<5,>=3.4.0->starlette<2.0->lightning) (1.3.0)\nRequirement already satisfied: wcwidth>=0.1.4 in /opt/conda/lib/python3.7/site-packages (from blessed>=1.19.0->inquirer<5.0,>=2.10.0->lightning) (0.2.6)\nRequirement already satisfied: zipp>=0.5 in /opt/conda/lib/python3.7/site-packages (from importlib-metadata->click<10.0->lightning) (3.11.0)\nRequirement already satisfied: mdurl~=0.1 in /opt/conda/lib/python3.7/site-packages (from markdown-it-py<3.0.0,>=2.1.0->rich<15.0->lightning) (0.1.2)\nRequirement already satisfied: setuptools>=41.0 in /opt/conda/lib/python3.7/site-packages (from readchar>=3.0.6->inquirer<5.0,>=2.10.0->lightning) (59.8.0)\nRequirement already satisfied: jmespath<2.0.0,>=0.7.1 in /opt/conda/lib/python3.7/site-packages (from boto3->lightning-cloud>=0.5.27->lightning) (1.0.1)\nRequirement already satisfied: s3transfer<0.7.0,>=0.6.0 in /opt/conda/lib/python3.7/site-packages (from boto3->lightning-cloud>=0.5.27->lightning) (0.6.0)\nCollecting botocore<1.30.0,>=1.29.77\n  Downloading botocore-1.29.165-py3-none-any.whl (11.0 MB)\n\u001b[2K     \u001b[90m━━━━━━━━━━━━━━━━━━━━━━━━━━━━━━━━━━━━━━━━\u001b[0m \u001b[32m11.0/11.0 MB\u001b[0m \u001b[31m51.8 MB/s\u001b[0m eta \u001b[36m0:00:00\u001b[0m00:01\u001b[0m0:01\u001b[0mm\n\u001b[?25hInstalling collected packages: python-editor, readchar, python-multipart, ordered-set, inquirer, deepdiff, dateutils, croniter, botocore, starsessions, fastapi, lightning-cloud, lightning\n  Attempting uninstall: botocore\n    Found existing installation: botocore 1.27.59\n    Uninstalling botocore-1.27.59:\n      Successfully uninstalled botocore-1.27.59\n  Attempting uninstall: fastapi\n    Found existing installation: fastapi 0.89.1\n    Uninstalling fastapi-0.89.1:\n      Successfully uninstalled fastapi-0.89.1\n\u001b[31mERROR: pip's dependency resolver does not currently take into account all the packages that are installed. This behaviour is the source of the following dependency conflicts.\naiobotocore 2.4.2 requires botocore<1.27.60,>=1.27.59, but you have botocore 1.29.165 which is incompatible.\u001b[0m\u001b[31m\n\u001b[0mSuccessfully installed botocore-1.29.165 croniter-1.3.15 dateutils-0.6.12 deepdiff-6.7.0 fastapi-0.88.0 inquirer-2.10.1 lightning-1.9.5 lightning-cloud-0.5.52 ordered-set-4.1.0 python-editor-1.0.4 python-multipart-0.0.6 readchar-4.0.5 starsessions-1.3.0\n\u001b[33mWARNING: Running pip as the 'root' user can result in broken permissions and conflicting behaviour with the system package manager. It is recommended to use a virtual environment instead: https://pip.pypa.io/warnings/venv\u001b[0m\u001b[33m\n\u001b[0m",
          "output_type": "stream"
        }
      ]
    },
    {
      "cell_type": "code",
      "source": [
        "!pip install transformers"
      ],
      "metadata": {
        "execution": {
          "iopub.status.busy": "2023-11-08T20:05:14.421594Z",
          "iopub.execute_input": "2023-11-08T20:05:14.421941Z",
          "iopub.status.idle": "2023-11-08T20:05:26.776295Z",
          "shell.execute_reply.started": "2023-11-08T20:05:14.421907Z",
          "shell.execute_reply": "2023-11-08T20:05:26.775001Z"
        },
        "trusted": true,
        "id": "wWBIkDz5ql5G",
        "outputId": "a8cc9d43-9e53-4500-8896-4fd6464b4a75"
      },
      "execution_count": null,
      "outputs": [
        {
          "name": "stdout",
          "text": "Requirement already satisfied: transformers in /opt/conda/lib/python3.7/site-packages (4.26.1)\nRequirement already satisfied: pyyaml>=5.1 in /opt/conda/lib/python3.7/site-packages (from transformers) (6.0)\nRequirement already satisfied: regex!=2019.12.17 in /opt/conda/lib/python3.7/site-packages (from transformers) (2021.11.10)\nRequirement already satisfied: huggingface-hub<1.0,>=0.11.0 in /opt/conda/lib/python3.7/site-packages (from transformers) (0.12.1)\nRequirement already satisfied: numpy>=1.17 in /opt/conda/lib/python3.7/site-packages (from transformers) (1.21.6)\nRequirement already satisfied: tokenizers!=0.11.3,<0.14,>=0.11.1 in /opt/conda/lib/python3.7/site-packages (from transformers) (0.13.2)\nRequirement already satisfied: tqdm>=4.27 in /opt/conda/lib/python3.7/site-packages (from transformers) (4.64.1)\nRequirement already satisfied: importlib-metadata in /opt/conda/lib/python3.7/site-packages (from transformers) (4.11.4)\nRequirement already satisfied: filelock in /opt/conda/lib/python3.7/site-packages (from transformers) (3.9.0)\nRequirement already satisfied: requests in /opt/conda/lib/python3.7/site-packages (from transformers) (2.28.2)\nRequirement already satisfied: packaging>=20.0 in /opt/conda/lib/python3.7/site-packages (from transformers) (23.0)\nRequirement already satisfied: typing-extensions>=3.7.4.3 in /opt/conda/lib/python3.7/site-packages (from huggingface-hub<1.0,>=0.11.0->transformers) (4.4.0)\nRequirement already satisfied: zipp>=0.5 in /opt/conda/lib/python3.7/site-packages (from importlib-metadata->transformers) (3.11.0)\nRequirement already satisfied: idna<4,>=2.5 in /opt/conda/lib/python3.7/site-packages (from requests->transformers) (3.4)\nRequirement already satisfied: certifi>=2017.4.17 in /opt/conda/lib/python3.7/site-packages (from requests->transformers) (2022.12.7)\nRequirement already satisfied: charset-normalizer<4,>=2 in /opt/conda/lib/python3.7/site-packages (from requests->transformers) (2.1.1)\nRequirement already satisfied: urllib3<1.27,>=1.21.1 in /opt/conda/lib/python3.7/site-packages (from requests->transformers) (1.26.14)\n\u001b[33mWARNING: Running pip as the 'root' user can result in broken permissions and conflicting behaviour with the system package manager. It is recommended to use a virtual environment instead: https://pip.pypa.io/warnings/venv\u001b[0m\u001b[33m\n\u001b[0m",
          "output_type": "stream"
        }
      ]
    },
    {
      "cell_type": "code",
      "source": [
        "import json\n",
        "import pandas as pd\n",
        "import numpy as np\n",
        "import torch\n",
        "from pathlib import Path\n",
        "import lightning as pl"
      ],
      "metadata": {
        "execution": {
          "iopub.status.busy": "2023-11-08T20:05:26.779784Z",
          "iopub.execute_input": "2023-11-08T20:05:26.780232Z",
          "iopub.status.idle": "2023-11-08T20:05:40.308320Z",
          "shell.execute_reply.started": "2023-11-08T20:05:26.780186Z",
          "shell.execute_reply": "2023-11-08T20:05:40.307239Z"
        },
        "trusted": true,
        "id": "AbtyXNLIql5H"
      },
      "execution_count": null,
      "outputs": []
    },
    {
      "cell_type": "code",
      "source": [
        "from sklearn.model_selection import train_test_split\n",
        "from termcolor import colored\n",
        "import textwrap"
      ],
      "metadata": {
        "execution": {
          "iopub.status.busy": "2023-11-08T20:05:40.309768Z",
          "iopub.execute_input": "2023-11-08T20:05:40.310101Z",
          "iopub.status.idle": "2023-11-08T20:05:40.941673Z",
          "shell.execute_reply.started": "2023-11-08T20:05:40.310067Z",
          "shell.execute_reply": "2023-11-08T20:05:40.940576Z"
        },
        "trusted": true,
        "id": "d1RStyVWql5J"
      },
      "execution_count": null,
      "outputs": []
    },
    {
      "cell_type": "code",
      "source": [
        "from torch.utils.data import Dataset, DataLoader\n",
        "from lightning.pytorch import Trainer\n",
        "from lightning.pytorch.callbacks import ModelCheckpoint\n",
        "\n",
        "from lightning.pytorch.loggers import TensorBoardLogger\n",
        "from transformers import AdamW, T5ForConditionalGeneration, T5TokenizerFast as T5Tokenizer\n",
        "from tqdm.auto import tqdm"
      ],
      "metadata": {
        "execution": {
          "iopub.status.busy": "2023-11-08T20:05:40.943015Z",
          "iopub.execute_input": "2023-11-08T20:05:40.943308Z",
          "iopub.status.idle": "2023-11-08T20:05:40.964304Z",
          "shell.execute_reply.started": "2023-11-08T20:05:40.943281Z",
          "shell.execute_reply": "2023-11-08T20:05:40.963519Z"
        },
        "trusted": true,
        "id": "Td2iLlREql5K"
      },
      "execution_count": null,
      "outputs": []
    },
    {
      "cell_type": "code",
      "source": [
        "import seaborn as sns\n",
        "import matplotlib.pyplot as plt\n"
      ],
      "metadata": {
        "execution": {
          "iopub.status.busy": "2023-11-08T20:05:40.965369Z",
          "iopub.execute_input": "2023-11-08T20:05:40.965675Z",
          "iopub.status.idle": "2023-11-08T20:05:41.145226Z",
          "shell.execute_reply.started": "2023-11-08T20:05:40.965645Z",
          "shell.execute_reply": "2023-11-08T20:05:41.144229Z"
        },
        "trusted": true,
        "id": "63J96nj-ql5L"
      },
      "execution_count": null,
      "outputs": []
    },
    {
      "cell_type": "code",
      "source": [
        "pl.seed_everything(1234)"
      ],
      "metadata": {
        "execution": {
          "iopub.status.busy": "2023-11-08T20:05:41.146574Z",
          "iopub.execute_input": "2023-11-08T20:05:41.146896Z",
          "iopub.status.idle": "2023-11-08T20:05:41.158102Z",
          "shell.execute_reply.started": "2023-11-08T20:05:41.146866Z",
          "shell.execute_reply": "2023-11-08T20:05:41.157131Z"
        },
        "trusted": true,
        "id": "cSwSWtS8ql5L",
        "outputId": "7bfc6ab9-0d28-4d0a-a268-f6ddd082cd73"
      },
      "execution_count": null,
      "outputs": [
        {
          "name": "stderr",
          "text": "INFO: Global seed set to 1234\n",
          "output_type": "stream"
        },
        {
          "execution_count": 8,
          "output_type": "execute_result",
          "data": {
            "text/plain": "1234"
          },
          "metadata": {}
        }
      ]
    },
    {
      "cell_type": "code",
      "source": [
        "df = pd.read_csv(\"/kaggle/input/news-summary/news_summary.csv\", encoding=\"latin-1\")\n",
        "df.head()"
      ],
      "metadata": {
        "execution": {
          "iopub.status.busy": "2023-11-08T20:05:41.159388Z",
          "iopub.execute_input": "2023-11-08T20:05:41.159849Z",
          "iopub.status.idle": "2023-11-08T20:05:41.430483Z",
          "shell.execute_reply.started": "2023-11-08T20:05:41.159819Z",
          "shell.execute_reply": "2023-11-08T20:05:41.429469Z"
        },
        "trusted": true,
        "id": "1z8Q0tNzql5M",
        "outputId": "ad240c38-577b-4224-8471-c5a8d5d04e29"
      },
      "execution_count": null,
      "outputs": [
        {
          "execution_count": 9,
          "output_type": "execute_result",
          "data": {
            "text/plain": "               author                  date  \\\n0        Chhavi Tyagi  03 Aug 2017,Thursday   \n1         Daisy Mowke  03 Aug 2017,Thursday   \n2      Arshiya Chopra  03 Aug 2017,Thursday   \n3       Sumedha Sehra  03 Aug 2017,Thursday   \n4  Aarushi Maheshwari  03 Aug 2017,Thursday   \n\n                                           headlines  \\\n0  Daman & Diu revokes mandatory Rakshabandhan in...   \n1  Malaika slams user who trolled her for 'divorc...   \n2  'Virgin' now corrected to 'Unmarried' in IGIMS...   \n3  Aaj aapne pakad liya: LeT man Dujana before be...   \n4  Hotel staff to get training to spot signs of s...   \n\n                                           read_more  \\\n0  http://www.hindustantimes.com/india-news/raksh...   \n1  http://www.hindustantimes.com/bollywood/malaik...   \n2  http://www.hindustantimes.com/patna/bihar-igim...   \n3  http://indiatoday.intoday.in/story/abu-dujana-...   \n4  http://indiatoday.intoday.in/story/sex-traffic...   \n\n                                                text  \\\n0  The Administration of Union Territory Daman an...   \n1  Malaika Arora slammed an Instagram user who tr...   \n2  The Indira Gandhi Institute of Medical Science...   \n3  Lashkar-e-Taiba's Kashmir commander Abu Dujana...   \n4  Hotels in Maharashtra will train their staff t...   \n\n                                               ctext  \n0  The Daman and Diu administration on Wednesday ...  \n1  From her special numbers to TV?appearances, Bo...  \n2  The Indira Gandhi Institute of Medical Science...  \n3  Lashkar-e-Taiba's Kashmir commander Abu Dujana...  \n4  Hotels in Mumbai and other Indian cities are t...  ",
            "text/html": "<div>\n<style scoped>\n    .dataframe tbody tr th:only-of-type {\n        vertical-align: middle;\n    }\n\n    .dataframe tbody tr th {\n        vertical-align: top;\n    }\n\n    .dataframe thead th {\n        text-align: right;\n    }\n</style>\n<table border=\"1\" class=\"dataframe\">\n  <thead>\n    <tr style=\"text-align: right;\">\n      <th></th>\n      <th>author</th>\n      <th>date</th>\n      <th>headlines</th>\n      <th>read_more</th>\n      <th>text</th>\n      <th>ctext</th>\n    </tr>\n  </thead>\n  <tbody>\n    <tr>\n      <th>0</th>\n      <td>Chhavi Tyagi</td>\n      <td>03 Aug 2017,Thursday</td>\n      <td>Daman &amp; Diu revokes mandatory Rakshabandhan in...</td>\n      <td>http://www.hindustantimes.com/india-news/raksh...</td>\n      <td>The Administration of Union Territory Daman an...</td>\n      <td>The Daman and Diu administration on Wednesday ...</td>\n    </tr>\n    <tr>\n      <th>1</th>\n      <td>Daisy Mowke</td>\n      <td>03 Aug 2017,Thursday</td>\n      <td>Malaika slams user who trolled her for 'divorc...</td>\n      <td>http://www.hindustantimes.com/bollywood/malaik...</td>\n      <td>Malaika Arora slammed an Instagram user who tr...</td>\n      <td>From her special numbers to TV?appearances, Bo...</td>\n    </tr>\n    <tr>\n      <th>2</th>\n      <td>Arshiya Chopra</td>\n      <td>03 Aug 2017,Thursday</td>\n      <td>'Virgin' now corrected to 'Unmarried' in IGIMS...</td>\n      <td>http://www.hindustantimes.com/patna/bihar-igim...</td>\n      <td>The Indira Gandhi Institute of Medical Science...</td>\n      <td>The Indira Gandhi Institute of Medical Science...</td>\n    </tr>\n    <tr>\n      <th>3</th>\n      <td>Sumedha Sehra</td>\n      <td>03 Aug 2017,Thursday</td>\n      <td>Aaj aapne pakad liya: LeT man Dujana before be...</td>\n      <td>http://indiatoday.intoday.in/story/abu-dujana-...</td>\n      <td>Lashkar-e-Taiba's Kashmir commander Abu Dujana...</td>\n      <td>Lashkar-e-Taiba's Kashmir commander Abu Dujana...</td>\n    </tr>\n    <tr>\n      <th>4</th>\n      <td>Aarushi Maheshwari</td>\n      <td>03 Aug 2017,Thursday</td>\n      <td>Hotel staff to get training to spot signs of s...</td>\n      <td>http://indiatoday.intoday.in/story/sex-traffic...</td>\n      <td>Hotels in Maharashtra will train their staff t...</td>\n      <td>Hotels in Mumbai and other Indian cities are t...</td>\n    </tr>\n  </tbody>\n</table>\n</div>"
          },
          "metadata": {}
        }
      ]
    },
    {
      "cell_type": "code",
      "source": [
        "df = df[['text', 'ctext']]\n",
        "df.head()"
      ],
      "metadata": {
        "execution": {
          "iopub.status.busy": "2023-11-08T20:05:41.433310Z",
          "iopub.execute_input": "2023-11-08T20:05:41.433648Z",
          "iopub.status.idle": "2023-11-08T20:05:41.447207Z",
          "shell.execute_reply.started": "2023-11-08T20:05:41.433618Z",
          "shell.execute_reply": "2023-11-08T20:05:41.446261Z"
        },
        "trusted": true,
        "id": "H1y9oMXrql5N",
        "outputId": "ceb4adb1-6782-473a-f24d-53e6b24969ae"
      },
      "execution_count": null,
      "outputs": [
        {
          "execution_count": 10,
          "output_type": "execute_result",
          "data": {
            "text/plain": "                                                text  \\\n0  The Administration of Union Territory Daman an...   \n1  Malaika Arora slammed an Instagram user who tr...   \n2  The Indira Gandhi Institute of Medical Science...   \n3  Lashkar-e-Taiba's Kashmir commander Abu Dujana...   \n4  Hotels in Maharashtra will train their staff t...   \n\n                                               ctext  \n0  The Daman and Diu administration on Wednesday ...  \n1  From her special numbers to TV?appearances, Bo...  \n2  The Indira Gandhi Institute of Medical Science...  \n3  Lashkar-e-Taiba's Kashmir commander Abu Dujana...  \n4  Hotels in Mumbai and other Indian cities are t...  ",
            "text/html": "<div>\n<style scoped>\n    .dataframe tbody tr th:only-of-type {\n        vertical-align: middle;\n    }\n\n    .dataframe tbody tr th {\n        vertical-align: top;\n    }\n\n    .dataframe thead th {\n        text-align: right;\n    }\n</style>\n<table border=\"1\" class=\"dataframe\">\n  <thead>\n    <tr style=\"text-align: right;\">\n      <th></th>\n      <th>text</th>\n      <th>ctext</th>\n    </tr>\n  </thead>\n  <tbody>\n    <tr>\n      <th>0</th>\n      <td>The Administration of Union Territory Daman an...</td>\n      <td>The Daman and Diu administration on Wednesday ...</td>\n    </tr>\n    <tr>\n      <th>1</th>\n      <td>Malaika Arora slammed an Instagram user who tr...</td>\n      <td>From her special numbers to TV?appearances, Bo...</td>\n    </tr>\n    <tr>\n      <th>2</th>\n      <td>The Indira Gandhi Institute of Medical Science...</td>\n      <td>The Indira Gandhi Institute of Medical Science...</td>\n    </tr>\n    <tr>\n      <th>3</th>\n      <td>Lashkar-e-Taiba's Kashmir commander Abu Dujana...</td>\n      <td>Lashkar-e-Taiba's Kashmir commander Abu Dujana...</td>\n    </tr>\n    <tr>\n      <th>4</th>\n      <td>Hotels in Maharashtra will train their staff t...</td>\n      <td>Hotels in Mumbai and other Indian cities are t...</td>\n    </tr>\n  </tbody>\n</table>\n</div>"
          },
          "metadata": {}
        }
      ]
    },
    {
      "cell_type": "code",
      "source": [
        "df.columns = ['summary', 'text']\n",
        "df = df.dropna()\n",
        "df.head()"
      ],
      "metadata": {
        "execution": {
          "iopub.status.busy": "2023-11-08T20:05:41.448493Z",
          "iopub.execute_input": "2023-11-08T20:05:41.449216Z",
          "iopub.status.idle": "2023-11-08T20:05:41.464395Z",
          "shell.execute_reply.started": "2023-11-08T20:05:41.449174Z",
          "shell.execute_reply": "2023-11-08T20:05:41.463271Z"
        },
        "trusted": true,
        "id": "iQSHiB5Hql5O",
        "outputId": "e04afa08-78f4-4078-8e17-023b9549d6f8"
      },
      "execution_count": null,
      "outputs": [
        {
          "execution_count": 11,
          "output_type": "execute_result",
          "data": {
            "text/plain": "                                             summary  \\\n0  The Administration of Union Territory Daman an...   \n1  Malaika Arora slammed an Instagram user who tr...   \n2  The Indira Gandhi Institute of Medical Science...   \n3  Lashkar-e-Taiba's Kashmir commander Abu Dujana...   \n4  Hotels in Maharashtra will train their staff t...   \n\n                                                text  \n0  The Daman and Diu administration on Wednesday ...  \n1  From her special numbers to TV?appearances, Bo...  \n2  The Indira Gandhi Institute of Medical Science...  \n3  Lashkar-e-Taiba's Kashmir commander Abu Dujana...  \n4  Hotels in Mumbai and other Indian cities are t...  ",
            "text/html": "<div>\n<style scoped>\n    .dataframe tbody tr th:only-of-type {\n        vertical-align: middle;\n    }\n\n    .dataframe tbody tr th {\n        vertical-align: top;\n    }\n\n    .dataframe thead th {\n        text-align: right;\n    }\n</style>\n<table border=\"1\" class=\"dataframe\">\n  <thead>\n    <tr style=\"text-align: right;\">\n      <th></th>\n      <th>summary</th>\n      <th>text</th>\n    </tr>\n  </thead>\n  <tbody>\n    <tr>\n      <th>0</th>\n      <td>The Administration of Union Territory Daman an...</td>\n      <td>The Daman and Diu administration on Wednesday ...</td>\n    </tr>\n    <tr>\n      <th>1</th>\n      <td>Malaika Arora slammed an Instagram user who tr...</td>\n      <td>From her special numbers to TV?appearances, Bo...</td>\n    </tr>\n    <tr>\n      <th>2</th>\n      <td>The Indira Gandhi Institute of Medical Science...</td>\n      <td>The Indira Gandhi Institute of Medical Science...</td>\n    </tr>\n    <tr>\n      <th>3</th>\n      <td>Lashkar-e-Taiba's Kashmir commander Abu Dujana...</td>\n      <td>Lashkar-e-Taiba's Kashmir commander Abu Dujana...</td>\n    </tr>\n    <tr>\n      <th>4</th>\n      <td>Hotels in Maharashtra will train their staff t...</td>\n      <td>Hotels in Mumbai and other Indian cities are t...</td>\n    </tr>\n  </tbody>\n</table>\n</div>"
          },
          "metadata": {}
        }
      ]
    },
    {
      "cell_type": "code",
      "source": [
        "df.shape"
      ],
      "metadata": {
        "execution": {
          "iopub.status.busy": "2023-11-08T20:05:41.465653Z",
          "iopub.execute_input": "2023-11-08T20:05:41.466012Z",
          "iopub.status.idle": "2023-11-08T20:05:41.471978Z",
          "shell.execute_reply.started": "2023-11-08T20:05:41.465983Z",
          "shell.execute_reply": "2023-11-08T20:05:41.470976Z"
        },
        "trusted": true,
        "id": "NP9VcYo-ql5P",
        "outputId": "5bd462e7-66a0-4080-bc5f-35b0405f53c4"
      },
      "execution_count": null,
      "outputs": [
        {
          "execution_count": 12,
          "output_type": "execute_result",
          "data": {
            "text/plain": "(4396, 2)"
          },
          "metadata": {}
        }
      ]
    },
    {
      "cell_type": "code",
      "source": [
        "train_df, test_df = train_test_split(df, test_size=0.1)\n",
        "print(f\"Shape of the Train Set: {train_df.shape}\\nShape of the Test Set: {test_df.shape}\")"
      ],
      "metadata": {
        "execution": {
          "iopub.status.busy": "2023-11-08T20:06:18.239881Z",
          "iopub.execute_input": "2023-11-08T20:06:18.240646Z",
          "iopub.status.idle": "2023-11-08T20:06:18.247659Z",
          "shell.execute_reply.started": "2023-11-08T20:06:18.240601Z",
          "shell.execute_reply": "2023-11-08T20:06:18.246594Z"
        },
        "trusted": true,
        "id": "jEqzrZbFql5Q",
        "outputId": "76971d96-0535-4f43-a17d-af345789a4f4"
      },
      "execution_count": null,
      "outputs": [
        {
          "name": "stdout",
          "text": "Shape of the Train Set: (3956, 2)\nShape of the Test Set: (440, 2)\n",
          "output_type": "stream"
        }
      ]
    },
    {
      "cell_type": "code",
      "source": [
        "class NewsDataset(Dataset):\n",
        "    def __init__(self, data, tokenizer, text_max_token_len=512, summary_max_token_len=128):\n",
        "        \"\"\"\n",
        "        A dataset that represents news articles and their respective summaries.\n",
        "\n",
        "        Args:\n",
        "        - data (pd.DataFrame): The data that contains the news articles and their summaries.\n",
        "        - tokenizer (transformers.tokenization_*) : The tokenizer used to tokenize the text and summary.\n",
        "        - text_max_token_len (int, optional): The maximum length of the text in terms of tokens. Defaults to 512.\n",
        "        - summary_max_token_len (int, optional): The maximum length of the summary in terms of tokens. Defaults to 128.\n",
        "        \"\"\"\n",
        "        self.tokenizer = tokenizer\n",
        "        self.data = data\n",
        "        self.text_max_token_len = text_max_token_len\n",
        "        self.summary_max_token_len = summary_max_token_len\n",
        "\n",
        "    def __len__(self):\n",
        "        \"\"\"\n",
        "        Returns:\n",
        "        - The number of samples in the dataset.\n",
        "        \"\"\"\n",
        "        return len(self.data)\n",
        "\n",
        "    def __getitem__(self, index):\n",
        "        \"\"\"\n",
        "        Get a sample from the dataset.\n",
        "\n",
        "        Args:\n",
        "        - index (int): The index of the sample to get.\n",
        "\n",
        "        Returns:\n",
        "        - A dictionary that contains the following:\n",
        "            - text (str): The original text of the news article.\n",
        "            - summary (str): The summary of the news article.\n",
        "            - text_input_ids (torch.Tensor): The input IDs of the text after tokenization.\n",
        "            - text_attention_mask (torch.Tensor): The attention mask of the text after tokenization.\n",
        "            - labels (torch.Tensor): The input IDs of the summary after tokenization.\n",
        "            - labels_attention_mask (torch.Tensor): The attention mask of the summary after tokenization.\n",
        "        \"\"\"\n",
        "        data_row = self.data.iloc[index]\n",
        "        text = data_row[\"text\"]\n",
        "\n",
        "        # Encode the text\n",
        "        text_encoding = self.tokenizer(\n",
        "            text,\n",
        "            max_length=self.text_max_token_len,\n",
        "            padding=\"max_length\",\n",
        "            truncation=True,\n",
        "            return_attention_mask=True,\n",
        "            add_special_tokens=True,\n",
        "            return_tensors=\"pt\"\n",
        "        )\n",
        "\n",
        "        # Encode the summary\n",
        "        summary_encoding = self.tokenizer(\n",
        "            data_row[\"summary\"],\n",
        "            max_length=self.summary_max_token_len,\n",
        "            padding=\"max_length\",\n",
        "            truncation=True,\n",
        "            return_attention_mask=True,\n",
        "            add_special_tokens=True,\n",
        "            return_tensors=\"pt\"\n",
        "        )\n",
        "\n",
        "        # Modify the labels so that the model knows which tokens to predict\n",
        "        labels = summary_encoding['input_ids']\n",
        "        labels[labels == 0] = -100\n",
        "\n",
        "        return {\n",
        "            'text': text,\n",
        "            'summary': data_row['summary'],\n",
        "            'text_input_ids': text_encoding['input_ids'].flatten(),\n",
        "            'text_attention_mask': text_encoding['attention_mask'].flatten(),\n",
        "            'labels': labels.flatten(),\n",
        "            'labels_attention_mask': summary_encoding[\"attention_mask\"].flatten()\n",
        "        }\n"
      ],
      "metadata": {
        "execution": {
          "iopub.status.busy": "2023-11-08T20:06:40.128573Z",
          "iopub.execute_input": "2023-11-08T20:06:40.129278Z",
          "iopub.status.idle": "2023-11-08T20:06:40.143932Z",
          "shell.execute_reply.started": "2023-11-08T20:06:40.129240Z",
          "shell.execute_reply": "2023-11-08T20:06:40.142794Z"
        },
        "trusted": true,
        "id": "botGOlZmql5R"
      },
      "execution_count": null,
      "outputs": []
    },
    {
      "cell_type": "markdown",
      "source": [
        "This is a Python class named \"NewsDataset\", which extends the PyTorch \"Dataset\" class, and it takes as input a pandas DataFrame object containing news articles data, a tokenizer object, and maximum token lengths for both the text and the summary.\n",
        "\n",
        "The class has three methods:\n",
        "\n",
        "- __init__(self, data, tokenizer, text_max_token_len=512, summary_max_token_len=128): This method initializes the class object and sets the instance variables. It takes the following arguments:\n",
        "    - data: a pandas DataFrame object containing news articles data, with columns \"text\" and \"summary\".\n",
        "    - tokenizer: a tokenizer object from the Hugging Face library that is used to tokenize the text and summary data.\n",
        "    - text_max_token_len: an optional integer that sets the maximum number of tokens to use for the text data.\n",
        "    - summary_max_token_len: an optional integer that sets the maximum number of tokens to use for the summary data.\n",
        "- __len__(self): This method returns the length of the dataset.\n",
        "\n",
        "- __getitem__(self, index): This method returns a dictionary of tokenized data for a single data point in the dataset. It takes an index as input and does the following steps:\n",
        "\n",
        "    - Retrieve the data at the given index from the pandas DataFrame object.\n",
        "    - Tokenize the text using the tokenizer object and set the maximum token length.\n",
        "    - Tokenize the summary using the tokenizer object and set the maximum token length.\n",
        "    - Set the labels for the summary using the \"input_ids\" tokenization.\n",
        "    - Replace all 0 values in the labels with -100.\n",
        "    - Return a dictionary containing the original text, the summary, the tokenized text input IDs, the attention mask for the text input, the labels for the summary, and the attention mask for the summary input."
      ],
      "metadata": {
        "id": "v6sr9Z37ql5T"
      }
    },
    {
      "cell_type": "code",
      "source": [
        "class NewsDataModule(pl.LightningDataModule):\n",
        "    def __init__(self,\n",
        "                 train_df,\n",
        "                 test_df,\n",
        "                 tokenizer,\n",
        "                 batch_size=8,\n",
        "                 text_max_token_len=152,\n",
        "                 summary_max_token_len=128):\n",
        "        \"\"\"\n",
        "        Initializes the NewsDataModule.\n",
        "\n",
        "        Args:\n",
        "        - train_df (pandas.DataFrame): the training dataset\n",
        "        - test_df (pandas.DataFrame): the testing dataset\n",
        "        - tokenizer (transformers.PreTrainedTokenizer): the tokenizer to be used\n",
        "        - batch_size (int): the batch size\n",
        "        - text_max_token_len (int): the maximum number of tokens for the text\n",
        "        - summary_max_token_len (int): the maximum number of tokens for the summary\n",
        "        \"\"\"\n",
        "        super().__init__()\n",
        "\n",
        "        self.train_df = train_df\n",
        "        self.test_df = test_df\n",
        "\n",
        "        self.batch_size = batch_size\n",
        "        self.tokenizer = tokenizer\n",
        "        self.text_max_token_len = text_max_token_len\n",
        "        self.summary_max_token_len = summary_max_token_len\n",
        "\n",
        "    def setup(self, stage=None):\n",
        "        \"\"\"\n",
        "        Sets up the dataset.\n",
        "        \"\"\"\n",
        "        self.train_dataset = NewsDataset(\n",
        "            self.train_df,\n",
        "            self.tokenizer,\n",
        "            self.text_max_token_len,\n",
        "            self.summary_max_token_len)\n",
        "\n",
        "        self.test_dataset = NewsDataset(\n",
        "            self.test_df,\n",
        "            self.tokenizer,\n",
        "            self.text_max_token_len,\n",
        "            self.summary_max_token_len)\n",
        "\n",
        "    def train_dataloader(self):\n",
        "        \"\"\"\n",
        "        Returns the DataLoader for the training set.\n",
        "        \"\"\"\n",
        "        return DataLoader(\n",
        "            self.train_dataset,\n",
        "            batch_size=self.batch_size,\n",
        "            shuffle=True\n",
        "        )\n",
        "\n",
        "    def test_dataloader(self):\n",
        "        \"\"\"\n",
        "        Returns the DataLoader for the testing set.\n",
        "        \"\"\"\n",
        "        return DataLoader(\n",
        "            self.test_dataset,\n",
        "            batch_size=self.batch_size,\n",
        "            shuffle=False\n",
        "        )\n",
        "\n",
        "    def val_dataloader(self):\n",
        "        \"\"\"\n",
        "        Returns the DataLoader for the validation set, which is the same as the testing set.\n",
        "        \"\"\"\n",
        "        return DataLoader(\n",
        "            self.test_dataset,\n",
        "            batch_size=self.batch_size,\n",
        "            shuffle=False\n",
        "        )"
      ],
      "metadata": {
        "execution": {
          "iopub.status.busy": "2023-11-08T20:07:00.752928Z",
          "iopub.execute_input": "2023-11-08T20:07:00.753710Z",
          "iopub.status.idle": "2023-11-08T20:07:00.765206Z",
          "shell.execute_reply.started": "2023-11-08T20:07:00.753662Z",
          "shell.execute_reply": "2023-11-08T20:07:00.764200Z"
        },
        "trusted": true,
        "id": "-Y1HrsADql5U"
      },
      "execution_count": null,
      "outputs": []
    },
    {
      "cell_type": "markdown",
      "source": [
        "This is a Python class named \"NewsDataModule\", which extends the PyTorch Lightning \"LightningDataModule\" class, and it takes as input two pandas DataFrame objects containing news articles data for the train and test sets, a tokenizer object, and maximum token lengths for both the text and the summary.\n",
        "\n",
        "The class has five methods:\n",
        "\n",
        "- __init__(self, train_df, test_df, tokenizer, batch_size=8, text_max_token_len=152, summary_max_token_len=128): This method initializes the class object and sets the instance variables. It takes the following arguments:\n",
        "    - train_df: a pandas DataFrame object containing news articles data for the training set, with columns \"text\" and \"summary\".\n",
        "    - test_df: a pandas DataFrame object containing news articles data for the test set, with columns \"text\" and \"summary\".\n",
        "    - tokenizer: a tokenizer object from the Hugging Face library that is used to tokenize the text and summary data.\n",
        "    - batch_size: an optional integer that sets the batch size for the dataloaders.\n",
        "    - text_max_token_len: an optional integer that sets the maximum number of tokens to use for the text data.\n",
        "    - summary_max_token_len: an optional integer that sets the maximum number of tokens to use for the summary data.\n",
        "- setup(self, stage=None): This method sets up the datasets for the train, validation, and test sets. It takes an optional stage argument that is not used in this code.\n",
        "    - Creates the train dataset by initializing a NewsDataset object with the train DataFrame, tokenizer, and maximum token lengths.\n",
        "    - Creates the test dataset by initializing a NewsDataset object with the test DataFrame, tokenizer, and maximum token lengths.\n",
        "- train_dataloader(self): This method returns a DataLoader object for the train dataset.\n",
        "    - Returns a DataLoader object with the train dataset, the batch size, and shuffles the data.\n",
        "\n",
        "Others are same as train_dataloader(self)"
      ],
      "metadata": {
        "id": "c5HA1NXoql5V"
      }
    },
    {
      "cell_type": "markdown",
      "source": [
        "> Get the model**هجيب المودل**"
      ],
      "metadata": {
        "id": "ZiF9h7M-ql5W"
      }
    },
    {
      "cell_type": "code",
      "source": [
        "MODEL_NAME = \"t5-base\"\n",
        "tokenizer = T5Tokenizer.from_pretrained(MODEL_NAME)"
      ],
      "metadata": {
        "execution": {
          "iopub.status.busy": "2023-11-08T20:07:13.206767Z",
          "iopub.execute_input": "2023-11-08T20:07:13.207291Z",
          "iopub.status.idle": "2023-11-08T20:07:15.028084Z",
          "shell.execute_reply.started": "2023-11-08T20:07:13.207239Z",
          "shell.execute_reply": "2023-11-08T20:07:15.026963Z"
        },
        "trusted": true,
        "colab": {
          "referenced_widgets": [
            "60570f97ddff42479355596f049d7212",
            "82d886509e5f46aa982388dcf4b197f4",
            "0d3fb235ddae4369a41168eb16bcfaa4"
          ]
        },
        "id": "Qc7pqwiTql5Y",
        "outputId": "d6c286c9-b5cc-4fc4-ff99-6552c3839069"
      },
      "execution_count": null,
      "outputs": [
        {
          "output_type": "display_data",
          "data": {
            "text/plain": "Downloading (…)ve/main/spiece.model:   0%|          | 0.00/792k [00:00<?, ?B/s]",
            "application/vnd.jupyter.widget-view+json": {
              "version_major": 2,
              "version_minor": 0,
              "model_id": "60570f97ddff42479355596f049d7212"
            }
          },
          "metadata": {}
        },
        {
          "output_type": "display_data",
          "data": {
            "text/plain": "Downloading (…)/main/tokenizer.json:   0%|          | 0.00/1.39M [00:00<?, ?B/s]",
            "application/vnd.jupyter.widget-view+json": {
              "version_major": 2,
              "version_minor": 0,
              "model_id": "82d886509e5f46aa982388dcf4b197f4"
            }
          },
          "metadata": {}
        },
        {
          "output_type": "display_data",
          "data": {
            "text/plain": "Downloading (…)lve/main/config.json:   0%|          | 0.00/1.21k [00:00<?, ?B/s]",
            "application/vnd.jupyter.widget-view+json": {
              "version_major": 2,
              "version_minor": 0,
              "model_id": "0d3fb235ddae4369a41168eb16bcfaa4"
            }
          },
          "metadata": {}
        },
        {
          "name": "stderr",
          "text": "/opt/conda/lib/python3.7/site-packages/transformers/models/t5/tokenization_t5_fast.py:165: FutureWarning: This tokenizer was incorrectly instantiated with a model max length of 512 which will be corrected in Transformers v5.\nFor now, this behavior is kept to avoid breaking backwards compatibility when padding/encoding with `truncation is True`.\n- Be aware that you SHOULD NOT rely on t5-base automatically truncating your input to 512 when padding/encoding.\n- If you want to encode/pad to sequences longer than 512 you can either instantiate this tokenizer with `model_max_length` or pass `max_length` when encoding/padding.\n- To avoid this warning, please instantiate this tokenizer with `model_max_length` set to your preferred value.\n  FutureWarning,\n",
          "output_type": "stream"
        }
      ]
    },
    {
      "cell_type": "markdown",
      "source": [
        "**In the below code, calculate the number of tokens in each text and summary data in the training set using the provided tokenizer object, and stores the results in separate lists**"
      ],
      "metadata": {
        "id": "WK614tLoql5Z"
      }
    },
    {
      "cell_type": "code",
      "source": [
        "text_token_counts = [len(tokenizer.encode(row[\"text\"])) for _, row in train_df.iterrows()]\n",
        "summary_token_counts = [len(tokenizer.encode(row[\"summary\"])) for _, row in train_df.iterrows()]\n"
      ],
      "metadata": {
        "execution": {
          "iopub.status.busy": "2023-11-08T20:07:18.212933Z",
          "iopub.execute_input": "2023-11-08T20:07:18.213329Z",
          "iopub.status.idle": "2023-11-08T20:07:26.573684Z",
          "shell.execute_reply.started": "2023-11-08T20:07:18.213292Z",
          "shell.execute_reply": "2023-11-08T20:07:26.572076Z"
        },
        "trusted": true,
        "id": "GMwHGigpql5a",
        "outputId": "dcff88b3-8f85-45e4-e5d6-86f812099bfb"
      },
      "execution_count": null,
      "outputs": [
        {
          "name": "stderr",
          "text": "Token indices sequence length is longer than the specified maximum sequence length for this model (639 > 512). Running this sequence through the model will result in indexing errors\n",
          "output_type": "stream"
        }
      ]
    },
    {
      "cell_type": "code",
      "source": [
        "#text_token_counts"
      ],
      "metadata": {
        "execution": {
          "iopub.status.busy": "2023-11-08T20:09:54.180243Z",
          "iopub.execute_input": "2023-11-08T20:09:54.181049Z",
          "iopub.status.idle": "2023-11-08T20:09:54.185752Z",
          "shell.execute_reply.started": "2023-11-08T20:09:54.181006Z",
          "shell.execute_reply": "2023-11-08T20:09:54.184557Z"
        },
        "trusted": true,
        "id": "uci8RdAWql5b"
      },
      "execution_count": null,
      "outputs": []
    },
    {
      "cell_type": "markdown",
      "source": [
        "In the above code, calculate the number of tokens in each text and summary data in the training set using the provided tokenizer object, and stores the results in separate lists. These token counts can be used to determine appropriate maximum token lengths for the text and summary when setting up the NewsDataModule object.\n",
        "\n",
        "* Create Two empty lists named text_token_counts and summary_token_counts. It then iterates over each row of the train_df DataFrame using the iterrows() method.\n",
        "\n",
        "* For each row, it calculates the number of tokens in the \"text\" column by calling the encode() method of the tokenizer object and passing in the text as an argument. The number of tokens is then appended to the text_token_counts list.\n",
        "\n",
        "* Similarly, it calculates the number of tokens in the \"summary\" column by calling the encode() method of the tokenizer object and passing in the summary as an argument. The number of tokens is then appended to the summary_token_counts list.\n"
      ],
      "metadata": {
        "id": "nAMpWRGLql5c"
      }
    },
    {
      "cell_type": "markdown",
      "source": [
        "**بعد كده علشان نشوفهم  نعمل visulize**"
      ],
      "metadata": {
        "id": "2s---7wNql5c"
      }
    },
    {
      "cell_type": "code",
      "source": [
        "fig, (ax1, ax2) = plt.subplots(1, 2, figsize=(12, 6))\n",
        "sns.histplot(text_token_counts, ax=ax1, color='blue', alpha=0.7)\n",
        "ax1.set_title(\"Distribution of Text Token Counts\", fontsize=14, fontweight='bold')\n",
        "ax1.set_xlabel(\"Number of Tokens\", fontsize=12)\n",
        "ax1.set_ylabel(\"Frequency\", fontsize=12)\n",
        "ax1.grid(axis='y', alpha=0.5)\n",
        "\n",
        "sns.histplot(summary_token_counts, ax=ax2, color='green', alpha=0.7)\n",
        "ax2.set_title(\"Distribution of Summary Token Counts\", fontsize=14, fontweight='bold')\n",
        "ax2.set_xlabel(\"Number of Tokens\", fontsize=12)\n",
        "ax2.set_ylabel(\"Frequency\", fontsize=12)\n",
        "ax2.grid(axis='y', alpha=0.5)\n",
        "\n",
        "plt.suptitle(\"Token Count Distributions\", fontsize=16, fontweight='bold')\n",
        "plt.tight_layout(rect=[0, 0.03, 1, 0.95])\n",
        "plt.show()"
      ],
      "metadata": {
        "execution": {
          "iopub.status.busy": "2023-11-08T20:10:52.972118Z",
          "iopub.execute_input": "2023-11-08T20:10:52.973073Z",
          "iopub.status.idle": "2023-11-08T20:10:54.320575Z",
          "shell.execute_reply.started": "2023-11-08T20:10:52.973032Z",
          "shell.execute_reply": "2023-11-08T20:10:54.319597Z"
        },
        "trusted": true,
        "id": "d82LqS-Oql5d",
        "outputId": "30927903-744c-47de-a66f-532ff26c4d3c"
      },
      "execution_count": null,
      "outputs": [
        {
          "output_type": "display_data",
          "data": {
            "text/plain": "<Figure size 1200x600 with 2 Axes>",
            "image/png": "[encoded data removed]"
          },
          "metadata": {}
        }
      ]
    },
    {
      "cell_type": "markdown",
      "source": [
        "**مودل وعدد epochs**"
      ],
      "metadata": {
        "id": "B0JAyr9vql5e"
      }
    },
    {
      "cell_type": "markdown",
      "source": [
        "news datamodule class above take object of it>> give us id ,aatentionmask(all of that preprocessed txt beforo model )"
      ],
      "metadata": {
        "id": "O4VwyT_iql5e"
      }
    },
    {
      "cell_type": "code",
      "source": [
        "N_EPOCHS = 1\n",
        "BATCH_SIZE=8\n",
        "\n",
        "data_module = NewsDataModule(\n",
        "    train_df,\n",
        "    test_df,\n",
        "    tokenizer,\n",
        "    batch_size=BATCH_SIZE\n",
        "\n",
        ")"
      ],
      "metadata": {
        "execution": {
          "iopub.status.busy": "2023-11-08T20:11:49.803132Z",
          "iopub.execute_input": "2023-11-08T20:11:49.803593Z",
          "iopub.status.idle": "2023-11-08T20:11:49.808944Z",
          "shell.execute_reply.started": "2023-11-08T20:11:49.803553Z",
          "shell.execute_reply": "2023-11-08T20:11:49.807869Z"
        },
        "trusted": true,
        "id": "ZP4M4SQlql5f"
      },
      "execution_count": null,
      "outputs": []
    },
    {
      "cell_type": "markdown",
      "source": [
        "Model"
      ],
      "metadata": {
        "id": "invXH1VTql5f"
      }
    },
    {
      "cell_type": "markdown",
      "source": [
        "**كلاس للمودل**"
      ],
      "metadata": {
        "id": "6sqUhr_2ql5g"
      }
    },
    {
      "cell_type": "code",
      "source": [
        "class SummaryModel(pl.LightningModule):\n",
        "    def __init__(self):\n",
        "        super().__init__()\n",
        "        self.model = T5ForConditionalGeneration.from_pretrained(MODEL_NAME, return_dict=True)\n",
        "\n",
        "    def forward(self, input_ids, attention_mask, decoder_attention_mask, labels=None):\n",
        "        output = self.model(\n",
        "            input_ids,\n",
        "            attention_mask=attention_mask,\n",
        "            labels=labels,\n",
        "            decoder_attention_mask=decoder_attention_mask\n",
        "        )\n",
        "        return output.loss, output.logits\n",
        "\n",
        "    def shared_step(self, batch, batch_idx, stage):\n",
        "        input_ids = batch['text_input_ids']\n",
        "        attention_mask = batch[\"text_attention_mask\"]\n",
        "        labels = batch[\"labels\"]\n",
        "        labels_attention_mask = batch[\"labels_attention_mask\"]\n",
        "\n",
        "        loss, _ = self(\n",
        "            input_ids=input_ids,\n",
        "            attention_mask=attention_mask,\n",
        "            decoder_attention_mask=labels_attention_mask,\n",
        "            labels=labels\n",
        "        )\n",
        "\n",
        "        self.log(f\"{stage}_loss\", loss, prog_bar=True, logger=True)\n",
        "        return loss\n",
        "\n",
        "    def training_step(self, batch, batch_idx):\n",
        "        return self.shared_step(batch, batch_idx, 'train')\n",
        "\n",
        "    def validation_step(self, batch, batch_idx):\n",
        "        return self.shared_step(batch, batch_idx, 'val')\n",
        "\n",
        "    def test_step(self, batch, batch_idx):\n",
        "        return self.shared_step(batch, batch_idx, 'test')\n",
        "\n",
        "    def configure_optimizers(self):\n",
        "        return AdamW(self.parameters(), lr=0.0001)\n"
      ],
      "metadata": {
        "execution": {
          "iopub.status.busy": "2023-11-08T20:16:47.093241Z",
          "iopub.execute_input": "2023-11-08T20:16:47.094193Z",
          "iopub.status.idle": "2023-11-08T20:16:47.105483Z",
          "shell.execute_reply.started": "2023-11-08T20:16:47.094153Z",
          "shell.execute_reply": "2023-11-08T20:16:47.104371Z"
        },
        "trusted": true,
        "id": "Wqlbl5aKql5g"
      },
      "execution_count": null,
      "outputs": []
    },
    {
      "cell_type": "markdown",
      "source": [
        "- The __init__ method initializes the T5 model by loading the pre-trained weights from the specified MODEL_NAME and setting return_dict=True to enable the module to return a dictionary of model outputs.\n",
        "\n",
        "- The forward method takes input_ids, attention_mask, decoder_attention_mask, and labels as input and performs forward propagation of the T5 model. The output of the method is a tuple of the loss and logits.\n",
        "\n",
        "- The shared_step method is a helper function that takes in a batch, batch index, and a stage (train, val, or test) and computes the loss for that batch. It uses the forward method to get the loss and logs the loss to the PyTorch Lightning logger using self.log(). The method returns the loss.\n",
        "\n",
        "- The training_step, validation_step, and test_step methods call the shared_step method with the appropriate stage and return the loss.\n",
        "\n",
        "- The configure_optimizers method sets up the optimizer used to update the model's parameters during training. In this case, it returns an AdamW optimizer with a learning rate of 0.0001."
      ],
      "metadata": {
        "id": "-wR-XLMZql5h"
      }
    },
    {
      "cell_type": "code",
      "source": [
        "model_1 = SummaryModel()"
      ],
      "metadata": {
        "execution": {
          "iopub.status.busy": "2023-11-08T20:16:55.287815Z",
          "iopub.execute_input": "2023-11-08T20:16:55.288213Z",
          "iopub.status.idle": "2023-11-08T20:17:01.945462Z",
          "shell.execute_reply.started": "2023-11-08T20:16:55.288178Z",
          "shell.execute_reply": "2023-11-08T20:17:01.944358Z"
        },
        "trusted": true,
        "colab": {
          "referenced_widgets": [
            "cb698e2d673b40089d28141bb6052d10",
            "c9a924c209e1449f954059896b04f75d"
          ]
        },
        "id": "86BNs9jjql5i",
        "outputId": "a94a1492-dbe1-439a-9711-70315f2ce498"
      },
      "execution_count": null,
      "outputs": [
        {
          "output_type": "display_data",
          "data": {
            "text/plain": "Downloading (…)\"pytorch_model.bin\";:   0%|          | 0.00/892M [00:00<?, ?B/s]",
            "application/vnd.jupyter.widget-view+json": {
              "version_major": 2,
              "version_minor": 0,
              "model_id": "cb698e2d673b40089d28141bb6052d10"
            }
          },
          "metadata": {}
        },
        {
          "output_type": "display_data",
          "data": {
            "text/plain": "Downloading (…)neration_config.json:   0%|          | 0.00/147 [00:00<?, ?B/s]",
            "application/vnd.jupyter.widget-view+json": {
              "version_major": 2,
              "version_minor": 0,
              "model_id": "c9a924c209e1449f954059896b04f75d"
            }
          },
          "metadata": {}
        }
      ]
    },
    {
      "cell_type": "code",
      "source": [
        "%load_ext tensorboard\n",
        "%tensorboard --logdir ./kaggle/working/lighting_logs"
      ],
      "metadata": {
        "execution": {
          "iopub.status.busy": "2023-11-08T20:17:07.300008Z",
          "iopub.execute_input": "2023-11-08T20:17:07.300401Z",
          "iopub.status.idle": "2023-11-08T20:17:14.385366Z",
          "shell.execute_reply.started": "2023-11-08T20:17:07.300366Z",
          "shell.execute_reply": "2023-11-08T20:17:14.384064Z"
        },
        "trusted": true,
        "id": "AjyuvfG_ql5i",
        "outputId": "e143f489-dfaf-45f5-d2e5-78129b9cbe46"
      },
      "execution_count": null,
      "outputs": [
        {
          "output_type": "display_data",
          "data": {
            "text/plain": "<IPython.core.display.HTML object>",
            "text/html": "\n      <iframe id=\"tensorboard-frame-c735df5ef7697fb9\" width=\"100%\" height=\"800\" frameborder=\"0\">\n      </iframe>\n      <script>\n        (function() {\n          const frame = document.getElementById(\"tensorboard-frame-c735df5ef7697fb9\");\n          const url = new URL(\"/\", window.location);\n          const port = 6006;\n          if (port) {\n            url.port = port;\n          }\n          frame.src = url;\n        })();\n      </script>\n    "
          },
          "metadata": {}
        },
        {
          "name": "stdout",
          "text": "huggingface/tokenizers: The current process just got forked, after parallelism has already been used. Disabling parallelism to avoid deadlocks...\nTo disable this warning, you can either:\n\t- Avoid using `tokenizers` before the fork if possible\n\t- Explicitly set the environment variable TOKENIZERS_PARALLELISM=(true | false)\n",
          "output_type": "stream"
        }
      ]
    },
    {
      "cell_type": "markdown",
      "source": [
        "**train model**"
      ],
      "metadata": {
        "id": "7X8dTEsDql5j"
      }
    },
    {
      "cell_type": "code",
      "source": [
        "callbacks = ModelCheckpoint(\n",
        "    dirpath=\"/kaggle/working/checkpoints\",\n",
        "    filename=\"base-checkpoint\",\n",
        "    save_top_k=1,\n",
        "    verbose=True,\n",
        "    monitor=\"val_loss\",\n",
        "    mode='min'\n",
        ")\n",
        "\n",
        "logger = TensorBoardLogger(\"lightning_logs\", name=\"news_summary\")\n",
        "\n",
        "trainer= Trainer(\n",
        "    logger=logger,\n",
        "    callbacks=callbacks,\n",
        "    max_epochs=N_EPOCHS,\n",
        "    gpus=1\n",
        ")"
      ],
      "metadata": {
        "execution": {
          "iopub.status.busy": "2023-11-08T20:25:10.000449Z",
          "iopub.execute_input": "2023-11-08T20:25:10.000940Z",
          "iopub.status.idle": "2023-11-08T20:25:10.084937Z",
          "shell.execute_reply.started": "2023-11-08T20:25:10.000898Z",
          "shell.execute_reply": "2023-11-08T20:25:10.084036Z"
        },
        "trusted": true,
        "id": "oTRKKJwYql5j",
        "outputId": "dc652a9a-0413-4b25-ec31-50a6b37e3403"
      },
      "execution_count": null,
      "outputs": [
        {
          "name": "stderr",
          "text": "/opt/conda/lib/python3.7/site-packages/lightning/pytorch/trainer/connectors/accelerator_connector.py:479: LightningDeprecationWarning: Setting `Trainer(gpus=1)` is deprecated in v1.7 and will be removed in v2.0. Please use `Trainer(accelerator='gpu', devices=1)` instead.\n  f\"Setting `Trainer(gpus={gpus!r})` is deprecated in v1.7 and will be removed\"\nINFO: GPU available: True (cuda), used: True\nINFO: TPU available: False, using: 0 TPU cores\nINFO: IPU available: False, using: 0 IPUs\nINFO: HPU available: False, using: 0 HPUs\n",
          "output_type": "stream"
        }
      ]
    },
    {
      "cell_type": "markdown",
      "source": [
        "**بتاخد المودلmodel1,datamodule و الداتا المتجهزه **"
      ],
      "metadata": {
        "id": "xD1lAKCnql5k"
      }
    },
    {
      "cell_type": "code",
      "source": [
        "trainer.fit(model_1, data_module)"
      ],
      "metadata": {
        "execution": {
          "iopub.status.busy": "2023-11-08T20:25:31.502163Z",
          "iopub.execute_input": "2023-11-08T20:25:31.502971Z",
          "iopub.status.idle": "2023-11-08T20:28:42.301644Z",
          "shell.execute_reply.started": "2023-11-08T20:25:31.502927Z",
          "shell.execute_reply": "2023-11-08T20:28:42.300564Z"
        },
        "trusted": true,
        "colab": {
          "referenced_widgets": [
            "",
            "0842d4feb5284bad81fbd5f8acec60a5"
          ]
        },
        "id": "Bowa1DkVql5k",
        "outputId": "04f9b762-4463-4858-fd79-4492fda061e9"
      },
      "execution_count": null,
      "outputs": [
        {
          "name": "stderr",
          "text": "WARNING: Missing logger folder: lightning_logs/news_summary\nINFO: LOCAL_RANK: 0 - CUDA_VISIBLE_DEVICES: [0]\n/opt/conda/lib/python3.7/site-packages/transformers/optimization.py:310: FutureWarning: This implementation of AdamW is deprecated and will be removed in a future version. Use the PyTorch implementation torch.optim.AdamW instead, or set `no_deprecation_warning=True` to disable this warning\n  FutureWarning,\nINFO: \n  | Name  | Type                       | Params\n-----------------------------------------------------\n0 | model | T5ForConditionalGeneration | 222 M \n-----------------------------------------------------\n222 M     Trainable params\n0         Non-trainable params\n222 M     Total params\n891.614   Total estimated model params size (MB)\n",
          "output_type": "stream"
        },
        {
          "output_type": "display_data",
          "data": {
            "text/plain": "Sanity Checking: 0it [00:00, ?it/s]",
            "application/vnd.jupyter.widget-view+json": {
              "version_major": 2,
              "version_minor": 0,
              "model_id": ""
            }
          },
          "metadata": {}
        },
        {
          "name": "stderr",
          "text": "/opt/conda/lib/python3.7/site-packages/lightning/pytorch/trainer/connectors/data_connector.py:229: PossibleUserWarning: The dataloader, val_dataloader 0, does not have many workers which may be a bottleneck. Consider increasing the value of the `num_workers` argument` (try 4 which is the number of cpus on this machine) in the `DataLoader` init to improve performance.\n  category=PossibleUserWarning,\n/opt/conda/lib/python3.7/site-packages/lightning/pytorch/trainer/connectors/data_connector.py:229: PossibleUserWarning: The dataloader, train_dataloader, does not have many workers which may be a bottleneck. Consider increasing the value of the `num_workers` argument` (try 4 which is the number of cpus on this machine) in the `DataLoader` init to improve performance.\n  category=PossibleUserWarning,\n",
          "output_type": "stream"
        },
        {
          "output_type": "display_data",
          "data": {
            "text/plain": "Training: 0it [00:00, ?it/s]",
            "application/vnd.jupyter.widget-view+json": {
              "version_major": 2,
              "version_minor": 0,
              "model_id": "0842d4feb5284bad81fbd5f8acec60a5"
            }
          },
          "metadata": {}
        },
        {
          "output_type": "display_data",
          "data": {
            "text/plain": "Validation: 0it [00:00, ?it/s]",
            "application/vnd.jupyter.widget-view+json": {
              "version_major": 2,
              "version_minor": 0,
              "model_id": ""
            }
          },
          "metadata": {}
        },
        {
          "name": "stderr",
          "text": "INFO: Epoch 0, global step 495: 'val_loss' reached 1.82100 (best 1.82100), saving model to '/kaggle/working/checkpoints/base-checkpoint.ckpt' as top 1\nINFO: `Trainer.fit` stopped: `max_epochs=1` reached.\n",
          "output_type": "stream"
        }
      ]
    },
    {
      "cell_type": "markdown",
      "source": [
        "**اعمل بعد ما خلص run ,load model,علشان اتنبا بيه**"
      ],
      "metadata": {
        "id": "f93p6sRcql5l"
      }
    },
    {
      "cell_type": "code",
      "source": [
        "best_model = SummaryModel.load_from_checkpoint(\n",
        "    trainer.checkpoint_callback.best_model_path\n",
        ")\n",
        "best_model.freeze()"
      ],
      "metadata": {
        "execution": {
          "iopub.status.busy": "2023-11-08T20:28:51.773497Z",
          "iopub.execute_input": "2023-11-08T20:28:51.774508Z",
          "iopub.status.idle": "2023-11-08T20:28:57.385783Z",
          "shell.execute_reply.started": "2023-11-08T20:28:51.774452Z",
          "shell.execute_reply": "2023-11-08T20:28:57.384671Z"
        },
        "trusted": true,
        "id": "OWlliQkEql5l"
      },
      "execution_count": null,
      "outputs": []
    },
    {
      "cell_type": "markdown",
      "source": [
        "This code defines a Python function named summarize that generates a summary of the input text using a pre-trained T5 Transformer model and tokenizer. Here is a step-by-step explanation of the code:\n",
        "\n",
        "The summarize function takes a single argument text which represents the input text to be summarized.\n",
        "The tokenizer function is called to encode the text input. The max_length parameter specifies the maximum length of the input sequence to be generated by the tokenizer. The padding parameter specifies whether to pad the input sequence to the maximum length. The truncation parameter specifies whether to truncate the input sequence if it exceeds the maximum length. The return_attention_mask parameter specifies whether to return the attention mask tensor along with the input tensor. The add_special_tokens parameter specifies whether to add special tokens to the input sequence. The return_tensors parameter specifies the format of the returned tensor, in this case, PyTorch tensor.\n",
        "The generate method of the pre-trained T5 Transformer model is called to generate a summary of the input text. The input_ids parameter specifies the token IDs of the input sequence. The attention_mask parameter specifies the attention mask tensor of the input sequence. The max_length parameter specifies the maximum length of the summary to be generated. The num_beams parameter specifies the number of beams to use in beam search. The repetition_penalty parameter specifies the penalty to apply to repeated tokens in the generated summary. The length_penalty parameter specifies the penalty to apply to the length of the generated summary. The early_stopping parameter specifies whether to stop generating the summary as soon as all beam hypotheses reach the end of the sequence or not.\n",
        "The decode method of the tokenizer is called to convert the generated token IDs to text format. The skip_special_tokens parameter specifies whether to skip special tokens in the generated text. The clean_up_tokenization_spaces parameter specifies whether to remove leading and trailing white spaces from the generated text.\n",
        "The generated text is joined using the join method of the string object and returned as the output of the summarize function.\n",
        "Overall, this code uses the pre-trained T5 Transformer model and tokenizer to generate a summary of the input text. The generate method of the model is used to generate the summary, and the decode method of the tokenizer is used to convert the generated token IDs to text format. The summarize function provides an easy-to-use API for summarizing text using a pre-trained T5 Transformer model."
      ],
      "metadata": {
        "id": "c4SrSZLHql5l"
      }
    },
    {
      "cell_type": "code",
      "source": [
        "def encode_text(text):\n",
        "    # Encode the text using the tokenizer\n",
        "    encoding = tokenizer.encode_plus(\n",
        "        text,\n",
        "        max_length=512,\n",
        "        padding=\"max_length\",\n",
        "        truncation=True,\n",
        "        return_attention_mask=True,\n",
        "        return_tensors='pt'\n",
        "    )\n",
        "    return encoding[\"input_ids\"], encoding[\"attention_mask\"]\n",
        "\n",
        "def generate_summary(input_ids, attention_mask):\n",
        "    # Generate a summary using the best model\n",
        "    generated_ids = best_model.model.generate(\n",
        "        input_ids=input_ids,\n",
        "        attention_mask=attention_mask,\n",
        "        max_length=150,\n",
        "        num_beams=2,\n",
        "        repetition_penalty=2.5,\n",
        "        length_penalty=1.0,\n",
        "        early_stopping=True\n",
        "    )\n",
        "    return generated_ids\n",
        "\n",
        "def decode_summary(generated_ids):\n",
        "    # Decode the generated summary\n",
        "    summary = [tokenizer.decode(gen_id, skip_special_tokens=True, clean_up_tokenization_spaces=True)\n",
        "               for gen_id in generated_ids]\n",
        "    return \"\".join(summary)\n",
        "\n",
        "def summarize(text):\n",
        "    input_ids, attention_mask = encode_text(text)\n",
        "    generated_ids = generate_summary(input_ids, attention_mask)\n",
        "    summary = decode_summary(generated_ids)\n",
        "    return summary\n"
      ],
      "metadata": {
        "execution": {
          "iopub.status.busy": "2023-11-08T20:30:33.750613Z",
          "iopub.execute_input": "2023-11-08T20:30:33.751024Z",
          "iopub.status.idle": "2023-11-08T20:30:33.760877Z",
          "shell.execute_reply.started": "2023-11-08T20:30:33.750988Z",
          "shell.execute_reply": "2023-11-08T20:30:33.759862Z"
        },
        "trusted": true,
        "id": "9fKa9nVGql5m"
      },
      "execution_count": null,
      "outputs": []
    },
    {
      "cell_type": "code",
      "source": [
        "sample_row = test_df.iloc[10]\n",
        "text = sample_row[\"text\"]\n",
        "model_summary = summarize(text)"
      ],
      "metadata": {
        "execution": {
          "iopub.status.busy": "2023-11-08T20:31:37.417487Z",
          "iopub.execute_input": "2023-11-08T20:31:37.417906Z",
          "iopub.status.idle": "2023-11-08T20:31:42.549276Z",
          "shell.execute_reply.started": "2023-11-08T20:31:37.417870Z",
          "shell.execute_reply": "2023-11-08T20:31:42.548160Z"
        },
        "trusted": true,
        "id": "lmwTmMEHql5m"
      },
      "execution_count": null,
      "outputs": []
    },
    {
      "cell_type": "code",
      "source": [
        "text"
      ],
      "metadata": {
        "execution": {
          "iopub.status.busy": "2023-11-08T20:31:45.154219Z",
          "iopub.execute_input": "2023-11-08T20:31:45.154929Z",
          "iopub.status.idle": "2023-11-08T20:31:45.161432Z",
          "shell.execute_reply.started": "2023-11-08T20:31:45.154888Z",
          "shell.execute_reply": "2023-11-08T20:31:45.160203Z"
        },
        "trusted": true,
        "id": "E8HlNLH-ql5m",
        "outputId": "5c0d5c92-abdf-4d30-ee3b-ba4fd5bf146e"
      },
      "execution_count": null,
      "outputs": [
        {
          "execution_count": 35,
          "output_type": "execute_result",
          "data": {
            "text/plain": "'Manchester City have taken their summer spending to more than £200m with the signing of Benjamin Mendy from Monaco and increased their total outlay in the transfer market since Pep Guardiola took charge 13 months ago to £385m.The transfer fee of £52m (?57.5m) for Mendy is a world record for a defender and is Guardiola?s latest signal of intent as he seeks to build a squad capable of winning major silverware in his second season at the Etihad Stadium.City?s spending is closing in on Real Madrid?s record for money outlayed in a single transfer window by one club, set when the Spanish club spent ?257m (£230m) in the summer of 2009 bringing in Xabi Alonso, Karim Benzema, Kaká and Cristiano Ronaldo.Mendy, who has signed a five-year contract with City, had been identified as a key target by Guardiola following the departure of the left-back Gaël Clichy at the end of last season and Aleksandar Kolarov, who left for Roma last week after seven years at the club. His signing completes a transformation of City?s defence since Guardiola?s appointment last summer.City confirmed over the weekend the £26.5m switch from Real Madrid of Danilo, who is expected to provide cover for the first-choice full-backs Mendy and the £45m signing from Tottenham Hotspur, Kyle Walker. They will line up alongside other expensive arrivals including the centre-back John Stones, signed last season for £47m, and the £34.9m goalkeeper Ederson from Benfica.The signing of Mendy, in particular, is a statement not only of City?s financial firepower but also of Guardiola?s determination to build the kind of ruthless attacking machine which he developed at Barcelona and Bayern Munich.Mendy, 23, came through Le Havre?s youth system before a move to Marseille in 2013. He switched to Monaco last summer for £11m where he established himself as one of the best full-backs in the world with his powerful and direct style of play as the club claimed the French title and reached the Champions League semi-finals.Like Walker, Mendy is at his most effective going forward and City will hope the duo can add a surge of energy in wide areas that was lacking last season; Guardiola received some criticism for switching between four and three at the back and deploying his full-backs in unfamiliar roles tucked into midfield. City?s new recruits indicate a move towards a more typical and consistent four-man defence, although Mendy and Walker are comfortable at wing-back.Mendy will join City?s squad in Los Angeles where Guardiola?s side are preparing to face Real Madrid in the International Champions Cup .?I am absolutely delighted to be joining Manchester City,? Mendy said. ?They are one of Europe?s leading clubs and in Pep Guardiola they have a manager committed to playing attacking football. I am sure that over the next few years we will be successful.?Txiki Begiristain, City?s director of football, said: ?Benjamin has all the qualities we are looking for in a full-back. For such a young player he has a wealth of top-level experience. He is undoubtedly one of the world?s best full-backs, our No1 target in this position. We are all delighted to have him here at Manchester City.?'"
          },
          "metadata": {}
        }
      ]
    },
    {
      "cell_type": "code",
      "source": [
        "sample_row[\"summary\"]"
      ],
      "metadata": {
        "execution": {
          "iopub.status.busy": "2023-11-08T20:31:49.375377Z",
          "iopub.execute_input": "2023-11-08T20:31:49.376070Z",
          "iopub.status.idle": "2023-11-08T20:31:49.382927Z",
          "shell.execute_reply.started": "2023-11-08T20:31:49.376024Z",
          "shell.execute_reply": "2023-11-08T20:31:49.381868Z"
        },
        "trusted": true,
        "id": "c0Qm1rzbql5n",
        "outputId": "0b0a1422-6bbf-4d50-938f-01a1ed37f4bb"
      },
      "execution_count": null,
      "outputs": [
        {
          "execution_count": 36,
          "output_type": "execute_result",
          "data": {
            "text/plain": "\"Premier League club Manchester City has signed French side AS Monaco's Benjamin Mendy for £52 million (over ?436 crore), making him the world's most expensive defender. The 23-year-old left-back surpassed Kyle Walker, who recently signed for Manchester City from Tottenham Hotspur for over £45 million (around ?377 crore). Manchester City has now taken its summer spending to over £200 million.\""
          },
          "metadata": {}
        }
      ]
    },
    {
      "cell_type": "code",
      "source": [
        "model_summary"
      ],
      "metadata": {
        "execution": {
          "iopub.status.busy": "2023-11-08T20:31:52.187342Z",
          "iopub.execute_input": "2023-11-08T20:31:52.188116Z",
          "iopub.status.idle": "2023-11-08T20:31:52.194172Z",
          "shell.execute_reply.started": "2023-11-08T20:31:52.188080Z",
          "shell.execute_reply": "2023-11-08T20:31:52.193176Z"
        },
        "trusted": true,
        "id": "gAUIECfUql5n",
        "outputId": "b79b6ef8-4560-45dd-e261-1eb927b7b4f7"
      },
      "execution_count": null,
      "outputs": [
        {
          "execution_count": 37,
          "output_type": "execute_result",
          "data": {
            "text/plain": "\"Manchester City have signed defender Benjamin Mendy from Monaco for?57.5 million, a world record for a defender. The signing of the 23-year-old full-back is a statement not only of City's financial firepower but also of Guardiola's determination to build a squad capable of winning major silverware.\""
          },
          "metadata": {}
        }
      ]
    },
    {
      "cell_type": "code",
      "source": [
        "text2=\"This code defines a Python function named summarize that generates a summary of the input text using a pre-trained T5 Transformer model and tokenizer. Here is a step-by-step explanation of the code:The summarize function takes a single argument text which represents the input text to be summarized. The tokenizer function is called to encode the text input. The max_length parameter specifies the maximum length of the input sequence to be generated by the tokenizer. The padding parameter specifies whether to pad the input sequence to the maximum length. The truncation parameter specifies whether to truncate the input sequence if it exceeds the maximum length. The return_attention_mask parameter specifies whether to return the attention mask tensor along with the input tensor. The add_special_tokens parameter specifies whether to add special tokens to the input sequence. The return_tensors parameter specifies the format of the returned tensor, in this case, PyTorch tensor. The generate method of the pre-trained T5 Transformer model is called to generate a summary of the input text. The input_ids parameter specifies the token IDs of the input sequence. The attention_mask parameter specifies the attention mask tensor of the input sequence. The max_length parameter specifies the maximum length of the summary to be generated. The num_beams parameter specifies the number of beams to use in beam search. The repetition_penalty parameter specifies the penalty to apply to repeated tokens in the generated summary. The length_penalty parameter specifies the penalty to apply to the length of the generated summary. The early_stopping parameter specifies whether to stop generating the summary as soon as all beam hypotheses reach the end of the sequence or not. The decode method of the tokenizer is called to convert the generated token IDs to text format. The skip_special_tokens parameter specifies whether to skip special tokens in the generated text. The clean_up_tokenization_spaces parameter specifies whether to remove leading and trailing white spaces from the generated text. The generated text is joined using the join method of the string object and returned as the output of the summarize function. Overall, this code uses the pre-trained T5 Transformer model and tokenizer to generate a summary of the input text. The generate method of the model is used to generate the summary, and the decode method of the tokenizer is used to convert the generated token IDs to text format. The summarize function provides an easy-to-use API for summarizing text using a pre-trained T5 Transformer model.\"\n"
      ],
      "metadata": {
        "execution": {
          "iopub.status.busy": "2023-11-08T20:35:24.085662Z",
          "iopub.execute_input": "2023-11-08T20:35:24.086057Z",
          "iopub.status.idle": "2023-11-08T20:35:24.092687Z",
          "shell.execute_reply.started": "2023-11-08T20:35:24.086022Z",
          "shell.execute_reply": "2023-11-08T20:35:24.091601Z"
        },
        "trusted": true,
        "id": "XuQQHpCfql5o"
      },
      "execution_count": 1,
      "outputs": []
    },
    {
      "cell_type": "code",
      "source": [
        "Nora=summarize(text2)"
      ],
      "metadata": {
        "execution": {
          "iopub.status.busy": "2023-11-08T20:36:31.706078Z",
          "iopub.execute_input": "2023-11-08T20:36:31.707183Z",
          "iopub.status.idle": "2023-11-08T20:36:36.430828Z",
          "shell.execute_reply.started": "2023-11-08T20:36:31.707123Z",
          "shell.execute_reply": "2023-11-08T20:36:36.429700Z"
        },
        "trusted": true,
        "id": "mV7YJn78ql5o"
      },
      "execution_count": null,
      "outputs": []
    },
    {
      "cell_type": "code",
      "source": [
        "Nora"
      ],
      "metadata": {
        "execution": {
          "iopub.status.busy": "2023-11-08T20:36:41.007369Z",
          "iopub.execute_input": "2023-11-08T20:36:41.008369Z",
          "iopub.status.idle": "2023-11-08T20:36:41.015113Z",
          "shell.execute_reply.started": "2023-11-08T20:36:41.008324Z",
          "shell.execute_reply": "2023-11-08T20:36:41.013819Z"
        },
        "trusted": true,
        "id": "bPnhM-90ql5o",
        "outputId": "3786a76f-69d6-4df7-9155-2bd6c6475ab5"
      },
      "execution_count": null,
      "outputs": [
        {
          "execution_count": 42,
          "output_type": "execute_result",
          "data": {
            "text/plain": "'This code defines a Python function named summarize that generates a summary of the input text using a pre-trained T5 Transformer model and tokenizer. The generated text is joined using the join method of the string object and returned as the output of the function.'"
          },
          "metadata": {}
        }
      ]
    },
    {
      "cell_type": "code",
      "source": [
        "from rouge import Rouge\n",
        "\n",
        "def evaluate_summary(generated_summary, reference_summary):\n",
        "    rouge = Rouge()\n",
        "    scores = rouge.get_scores(generated_summary, reference_summary, avg=True)\n",
        "    return scores\n",
        "\n",
        "# Example usage:\n",
        "generated_summary = summarize(\"Your input text here.\")\n",
        "reference_summary = \"Expected summary or ground truth.\"\n",
        "scores = evaluate_summary(generated_summary, reference_summary)\n",
        "print(scores)"
      ],
      "metadata": {
        "id": "lHxd0dQWql5p"
      },
      "execution_count": null,
      "outputs": []
    },
    {
      "cell_type": "code",
      "source": [
        "!pip install rouge"
      ],
      "metadata": {
        "colab": {
          "base_uri": "https://localhost:8080/"
        },
        "id": "MlW7fyMrKEMW",
        "outputId": "93633eae-e32e-4f41-97f4-d7848b88ad2e"
      },
      "execution_count": 3,
      "outputs": [
        {
          "output_type": "stream",
          "name": "stdout",
          "text": [
            "Collecting rouge\n",
            "  Downloading rouge-1.0.1-py3-none-any.whl.metadata (4.1 kB)\n",
            "Requirement already satisfied: six in /usr/local/lib/python3.10/dist-packages (from rouge) (1.16.0)\n",
            "Downloading rouge-1.0.1-py3-none-any.whl (13 kB)\n",
            "Installing collected packages: rouge\n",
            "Successfully installed rouge-1.0.1\n"
          ]
        }
      ]
    },
    {
      "cell_type": "code",
      "source": [
        "from rouge import Rouge\n",
        "\n",
        "def evaluate_summary(generated_summary, reference_summary):\n",
        "    rouge = Rouge()\n",
        "    scores = rouge.get_scores(generated_summary, reference_summary, avg=True)\n",
        "    return scores\n",
        "\n",
        "\n",
        "scores = evaluate_summary(Nora, text2)\n",
        "print(scores)"
      ],
      "metadata": {
        "id": "GdJ_hlNtKcuO"
      },
      "execution_count": null,
      "outputs": []
    }
  ]
}